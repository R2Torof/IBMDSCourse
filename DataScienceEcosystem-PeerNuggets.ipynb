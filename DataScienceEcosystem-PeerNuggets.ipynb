{
 "cells": [
  {
   "cell_type": "markdown",
   "metadata": {},
   "source": [
    "<center>\n",
    "    <img src=\"https://cf-courses-data.s3.us.cloud-object-storage.appdomain.cloud/IBMDeveloperSkillsNetwork-DS0105EN-SkillsNetwork/labs/Module2/images/SN_web_lightmode.png\" width=\"300\" alt=\"cognitiveclass.ai logo\">\n",
    "</center>\n"
   ]
  },
  {
   "cell_type": "markdown",
   "metadata": {},
   "source": [
    "#### Add your code below following the instructions given in the course\n"
   ]
  },
  {
   "cell_type": "code",
   "execution_count": null,
   "metadata": {},
   "outputs": [],
   "source": []
  },
  {
   "cell_type": "markdown",
   "metadata": {},
   "source": [
    "# Data Science Tools and Ecosystem"
   ]
  },
  {
   "cell_type": "markdown",
   "metadata": {},
   "source": [
    "In this Jupyter Notebook, created by downloading the file then opening it with the Jupyter Notebook Application in Anaconda Navigator, I will be summarizing Course 2 of the IBM Data Science Professional Certification. The title of the course is Tools for Data Science, and this course provides a summary of the Data Science Tools and Ecosystem"
   ]
  },
  {
   "cell_type": "markdown",
   "metadata": {},
   "source": [
    "## Background\n",
    "This notebook shows what I did in my IBM Course 2 assignment but with edits added from things I learned from my peers when I was peer-grading their equivalent assignments"
   ]
  },
  {
   "cell_type": "markdown",
   "metadata": {},
   "source": [
    "**Objectives**\n",
    "* List Popular Languages used by Data Scientists\n",
    "* List Popular Libraries used by Data Scientists\n",
    "* Demonstrate Evaluation of Arithmetic Expressions in Python"
   ]
  },
  {
   "cell_type": "markdown",
   "metadata": {},
   "source": [
    "There are many programming languages out there but there are some particularly useful ones for Data Scientists. Below is a list with the most important, most commonly used, languages listed first:\n",
    "1. Python\n",
    "2. R\n",
    "3. SQL\n",
    "4. Java\n",
    "5. Scala\n",
    "6. C++\n",
    "7. JavaScript\n",
    "8. Julia"
   ]
  },
  {
   "cell_type": "markdown",
   "metadata": {},
   "source": [
    "There are things called Libraries (packages) that can help you perform many things without you having to write a single line of code. There are many libraries out there and they are separated out by type. Below are these libraries listed and divided by type:\n",
    "\n",
    "**Python Libraries**\n",
    "1. Scientific Computing Libraries\n",
    "    1. Pandas\n",
    "    2. NumPy\n",
    "2. Data Visualization Libraries\n",
    "    1. Matplotlib\n",
    "    2. Seaborn\n",
    "3. Machine Learning Libraries\n",
    "    1. scikit-learn\n",
    "    2. TensorFlow\n",
    "4. Deep Learning Libraries\n",
    "    1. Keras\n",
    "    2. Pytorch\n",
    "    3. TensorFlow (Yes its both)\n",
    "\n",
    "**Non-Python Libraries** \n",
    "1. Apache Spark\n",
    "2. Scala Libraries\n",
    "    1. Vegas\n",
    "    2. BigDL\n",
    "3. R Libraries\n",
    "    1. ggplot2\n",
    "    2. dplyr\n",
    "    3. stringr\n",
    "    4. caret"
   ]
  },
  {
   "cell_type": "markdown",
   "metadata": {},
   "source": [
    "# Exercise 6: Peer 1 Nugget"
   ]
  },
  {
   "cell_type": "markdown",
   "metadata": {},
   "source": [
    "Below I got the idea from a peer to go past the assignment and use this notebook as a note taking studying tool. The assignment just wanted you to list in a single column table Development Environment Open Source Tools. My peer made a 2 column table with all the tools that one uses in Data Science that they learned from the course. They also made the 1st column all bold which is something I didn't realize you could do. I therefore played around and figured out that to do that you use the bold markdown syntax within the pipes to get something that isn't the column header to be bold. "
   ]
  },
  {
   "cell_type": "markdown",
   "metadata": {},
   "source": [
    "## My Original Assignment Response\n",
    "| Data Science Tools | \n",
    "| ------- |\n",
    "| Jupyter |\n",
    "| Jupyter Notebook |\n",
    "| JupyterLab |\n",
    "| Apache Zeppelin |\n",
    "| R Studio |\n",
    "| Spyder |"
   ]
  },
  {
   "cell_type": "markdown",
   "metadata": {},
   "source": [
    "## Screenshot of my Peer 1's Response to Exercise 6\n",
    "### My Thoughts and Response to my Peers Response\n",
    "Here you can see the screenshot of my peer's response to exercise 6 that got me thinking and I really wanted to be able to do that too. But I also wanted this in my notebook but the IBM Course didn't teach me how to upload an image that isn't from a URL aka a screenshot on my computer. Thank goodness for ChatGPT though, what my husband calls \"my boyfriend\". With his help I was able to learn how to get the screenshot image you see below into this Jupyter Notebook. \n",
    "#### Here are the steps I have learned:\n",
    "1. Open the directory folder I have my Jupyter Notebook in. \n",
    "    1. I had mine in the normal directory therefore I had to create a new folder so I could have my main directory clean and organized.\n",
    "    2. Once I created this new folder I wanted to move my Jupyter notebook into it but realized you can't just drag and move\n",
    "    3. ChatGPT tried to help but the terminal commands were saying that the folder I created, despite it showing up when I ask for a list of folders, didn't exist.\n",
    "    4. I then had a hunch that maybe it was because I was in Jupyter Notebook on the Anaconda Navigator instead of JupyterLab.\n",
    "    5. When I opened the notebook in JupyterLab I was able to drag and move the notebook to the new folder\n",
    "    6. Now I have a dedicated folder for this notebook so I can add images\n",
    "\n",
    "2. Next I have to upload the image I want to be added to this notebook to this folder that has my Jupyter Notebook\n",
    "3. Then create a new **Markdown Cell** in the place I want the screenshot image to be located\n",
    "4. Then I input the following **Markdown Code** for the image:\n",
    "    1. The '!' \n",
    "\n",
    "\n",
    "#### The Screenshot\n",
    "##### Quirk of system requiring URL Syntax for Image name\n",
    "![Without the URL Syntax replacing spaces with %20 the screenshot doesn't appear in this Anaconda Navigator JupyterLab Notebook System as you can see here](Exercise 6 Peer Detailed Table.png)\n",
    "\n",
    "##### With URL Syntax for Spaces the image shows up as seen below\n",
    "![Screenshot of my Peer's response to Exercise 6 In this screenshot you see that the peer has created a table with column 1 with bolded text and says different categories and column 2 is not bolded text and lists the tools in the named column 1 catagories](Exercise%206%20Peer%20Detailed%20Table.png)"
   ]
  },
  {
   "cell_type": "markdown",
   "metadata": {},
   "source": [
    "## Result of me applying my Peer 1's idea and making it my own\n",
    "I decided to do the same type of thing but I went a step further and added more information as well\n",
    "\n",
    "At first I just made a 2 column table then I ran it to test if it had bolded text on the 1st column words \n",
    "\n",
    "\n",
    "### Data Science Tools\n",
    "| Category | Tools |\n",
    "| -------| -------- |\n",
    "| Programming Languages| Python, R, Julia, SQL, Java, Scala, C++, JavaScript |\n",
    "| Development Environment Open Source Tools | Jupyter, Jupyter Notebook, JupyterLab, Apache Zeppelin, R Studio, Spyder |\n"
   ]
  },
  {
   "cell_type": "markdown",
   "metadata": {},
   "source": [
    "As you can see it did not have bolded text like my peer"
   ]
  },
  {
   "cell_type": "markdown",
   "metadata": {},
   "source": [
    "## 2nd attempt Result of me applying my Peer 1's idea and making it my own\n",
    "Since I couldn't see my peer's code I guessed that maybe if I used Markdown Syntax for bold and italic text on the words I wanted to have that then it would have the same effect that my peer had. I found that to be accurate as you can see below\n",
    "\n",
    "### Data Science Tools\n",
    "| Category | Tools |\n",
    "| -------| -------- |\n",
    "| **Programming Languages**| Python, R, Julia, SQL, Java, Scala, C++, JavaScript |\n",
    "| **Development Environment Open Source Tools** | Jupyter, Jupyter Notebook, JupyterLab, Apache Zeppelin, R Studio, Spyder |\n",
    "\n",
    "### Python Libraries\n",
    "| Category | Library | What That Library Does |\n",
    "| ------------------------------ | -----| -----|\n",
    "| **Data Manipulation Library** | | |\n",
    "| ***1*** | **Pandas** | Provides Data Structures and Tools for effective data cleaning, manipulation and analysis. Particularly suited to working with DataFrame objects, which are 2D tables with labeled axes (rows and columns) |\n",
    "\n"
   ]
  },
  {
   "cell_type": "markdown",
   "metadata": {},
   "source": [
    "## My Response to My Peer 1's Exercise 6 Answer\n",
    "I then decided I will now do a similar detailed table like my peer but would make it my own, to learn and process my notes and for me to better understand. \n",
    "\n",
    "### Data Science Tools\n",
    "| Category | Tools |\n",
    "| -------| -------- |\n",
    "| **Programming Languages**| Python, R, Julia, SQL, Java, Scala, C++, JavaScript |\n",
    "| **Development Environment Open Source Tools** | Jupyter, Jupyter Notebook, JupyterLab, Apache Zeppelin, R Studio, Spyder |\n",
    "| **Version Control** | Git, GitHub, GitLab, GoogleColab |\n",
    "| **Notebook Environment** | Jupyter Notebooks |\n",
    "| **IDEs** | JupyterLab, RStudio, VS Code, PyCharm |\n",
    "| **Database Management** | SQLite, PostgreSQL, MongoDB, Apache Cassandra |\n",
    "\n",
    "### Data Science Libraries\n",
    "| Type of Library | Library | Lanuage it uses | What That Library Does | List of Compatible IDE's | Built on Top of What, if applicable |\n",
    "| ------------------------------ | -----| -----| ----- | ------ | ------ |\n",
    "| **Data Manipulation** | | |\n",
    "| ***1*** | ***Pandas*** | Provides Data Structures and Tools for effective data cleaning, manipulation and analysis. Particularly suited to working with DataFrame objects, which are 2D tables with labeled axes (rows and columns) | Python | JupyterLab, Anaconda Navigator | NumPy |\n",
    "| ***2*** | ***dplyr*** | | R | | |\n",
    "| ***3*** | ***stringr*** | Designed specifically for working with strings, which are sequences of characters. This provides a cohesive set of functions designed to make string manipulation and processing which is easier and more consistent | R | | \n",
    "| **Scientific Computing** | \n",
    "| ***1*** | ***NumPy*** | Provides support for large, multi-dimensional arrays and matrices, along with a vast collection of high-level mathematical functions to perform operations on these arrays | Python | JupyterLab, Anaconda Navigator |\n",
    "| ***2*** | ***SciPy***| | Python | | |\n",
    "| ***3*** | ***Vegas*** | For Statistical data visualizations. You can work with data files as well as Spark DataFrame. | Scala |\n",
    "| **Data Visualization** | | |\n",
    "| ***1*** | ***Matplotlib*** | Popular for making plots & easily-customizable graphs | Python | JupyterLab, Anaconda Navigator, GoogleColab |\n",
    "| ***2*** | ***Seaborn*** | Generates heat maps, time series and violin plots | Python | Jupyter | Matplotlib |\n",
    "| ***3*** | ***Plotly*** | Creates publication-quality graphs and charts that are web-friendly and interactive (Eg: zooming and viewing additional data through hover actions). Web-based data visualizations that can be displayed or saved as individual HTML files.| Python, R, JavaScript, etc | JupyterLite, R Studio | |\n",
    "| ***4*** | ***ggplot2*** | Able to create complex, multi-layered graphics with a relatively simple syntax. Based on the Grammar of Graphics, a concept that provides a systematic approach to creating visualizations by breaking them down into semantic components such as scales, layers, and geometries. Part of the tidyverse | R | R Studio, tidyverse |\n",
    "| **Natural Language Processing** |\n",
    "| ***1*** | ***NLTK*** | = Natural Language Toolkit | Python | | |\n",
    "| ***2*** | ***spaCy*** | | Python | | |\n",
    "| **Machine Learning** |\n",
    "|***1*** | ***scikit-learn*** | Contains a variety of algorithms and tools for building machine learning models. It contains tools for statistical modeling: regression, classification, clustering, etc. Simple to get started and easy for beginners as you just define the model and specify the parameter types you want to use | Python | GoogleColab, Seldon, ModelDB | NumPy, SciPy, and Matplotlib |\n",
    "| ***2*** | ***TensorFlow*** | | Python | | |\n",
    "| ***3*** | ***caret*** | Short for Classification And REgression Training. Its a comprehensive framework for building machine learning models | R |\n",
    "| **Deep Learning** | Also called **Model Zoos** |\n",
    "| ***1*** | ***Keras*** | High-level interface that allows you to build the standard deep learning models in a quick, simple manner. It can function using GPUs but in many cases, a lower-level environment is necessary for deep learning | Python | | TensorFlow |\n",
    "| ***2*** | ***Pytorch*** | Used for experimentation, making it simple for researchers to test ideas. Developed by Facebook's AI Research Lab | Python |\n",
    "| ***3*** | ***TensorFlow*** | Used for AI. Open-source, developed by Google. A low-level framework used in the large-scale production of deep learning models, it's designed for production and deployment but can be unwiedly for experimentation | Python | Seldon |\n",
    "| ***4*** | ***BigDL*** | | Scala |\n",
    "| **Big Data Processing** |\n",
    "| ***1*** | ***Apache Spark*** | Tool used for processing large datasets that is more computation-focused. General-purpose cluster-computing framework allowing you to process data using compute clusters | Scala |  \n",
    "| ***2*** | ***Hadoop*** | Manages data processing and storage for big data application running in clustered systems | Java |\n"
   ]
  },
  {
   "cell_type": "markdown",
   "metadata": {},
   "source": [
    "### Examples of Evaluating Arithmetic Expressions in Python:"
   ]
  },
  {
   "cell_type": "code",
   "execution_count": 4,
   "metadata": {
    "scrolled": true
   },
   "outputs": [
    {
     "data": {
      "text/plain": [
       "17"
      ]
     },
     "execution_count": 4,
     "metadata": {},
     "output_type": "execute_result"
    }
   ],
   "source": [
    "# Example of a simple arithmetic expression to multiply and then add integers.\n",
    "(3*4)+5"
   ]
  },
  {
   "cell_type": "code",
   "execution_count": 5,
   "metadata": {},
   "outputs": [
    {
     "name": "stdout",
     "output_type": "stream",
     "text": [
      "3.3333333333333335\n"
     ]
    }
   ],
   "source": [
    "# This operation will convert 200 minutes to hours\n",
    "minutes = 200\n",
    "hours = minutes / 60\n",
    "print(hours)"
   ]
  },
  {
   "cell_type": "markdown",
   "metadata": {},
   "source": [
    "## Author\n",
    "Robyn Torof"
   ]
  },
  {
   "cell_type": "code",
   "execution_count": null,
   "metadata": {},
   "outputs": [],
   "source": []
  }
 ],
 "metadata": {
  "kernelspec": {
   "display_name": "Python 3 (ipykernel)",
   "language": "python",
   "name": "python3"
  },
  "language_info": {
   "codemirror_mode": {
    "name": "ipython",
    "version": 3
   },
   "file_extension": ".py",
   "mimetype": "text/x-python",
   "name": "python",
   "nbconvert_exporter": "python",
   "pygments_lexer": "ipython3",
   "version": "3.11.5"
  }
 },
 "nbformat": 4,
 "nbformat_minor": 4
}
