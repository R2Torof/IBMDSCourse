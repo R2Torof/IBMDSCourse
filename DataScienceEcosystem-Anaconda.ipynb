{
 "cells": [
  {
   "cell_type": "markdown",
   "metadata": {},
   "source": [
    "<center>\n",
    "    <img src=\"https://cf-courses-data.s3.us.cloud-object-storage.appdomain.cloud/IBMDeveloperSkillsNetwork-DS0105EN-SkillsNetwork/labs/Module2/images/SN_web_lightmode.png\" width=\"300\" alt=\"cognitiveclass.ai logo\">\n",
    "</center>\n"
   ]
  },
  {
   "cell_type": "markdown",
   "metadata": {},
   "source": [
    "#### Add your code below following the instructions given in the course\n"
   ]
  },
  {
   "cell_type": "code",
   "execution_count": null,
   "metadata": {},
   "outputs": [],
   "source": []
  },
  {
   "cell_type": "markdown",
   "metadata": {},
   "source": [
    "# Data Science Tools and Ecosystem"
   ]
  },
  {
   "cell_type": "markdown",
   "metadata": {},
   "source": [
    "In this Jupyter Notebook, created by downloading the file then opening it with the Jupyter Notebook Application in Anaconda Navigator, I will be summarizing Course 2 of the IBM Data Science Professional Certification. The title of the course is Tools for Data Science, and this course provides a summary of the Data Science Tools and Ecosystem"
   ]
  },
  {
   "cell_type": "markdown",
   "metadata": {},
   "source": [
    "**Objectives**\n",
    "* List Popular Languages used by Data Scientists\n",
    "* List Popular Libraries used by Data Scientists\n",
    "* Demonstrate Evaluation of Arithmetic Expressions in Python"
   ]
  },
  {
   "cell_type": "markdown",
   "metadata": {},
   "source": [
    "There are many programming languages out there but there are some particularly useful ones for Data Scientists. Below is a list with the most important, most commonly used, languages listed first:\n",
    "1. Python\n",
    "2. R\n",
    "3. SQL\n",
    "4. Java\n",
    "5. Scala\n",
    "6. C++\n",
    "7. JavaScript\n",
    "8. Julia"
   ]
  },
  {
   "cell_type": "markdown",
   "metadata": {},
   "source": [
    "There are things called Libraries (packages) that can help you perform many things without you having to write a single line of code. There are many libraries out there and they are separated out by type. Below are these libraries listed and divided by type:\n",
    "\n",
    "**Python Libraries**\n",
    "1. Scientific Computing Libraries\n",
    "    1. Pandas\n",
    "    2. NumPy\n",
    "2. Data Visualization Libraries\n",
    "    1. Matplotlib\n",
    "    2. Seaborn\n",
    "3. Machine Learning Libraries\n",
    "    1. scikit-learn\n",
    "    2. TensorFlow\n",
    "4. Deep Learning Libraries\n",
    "    1. Keras\n",
    "    2. Pytorch\n",
    "    3. TensorFlow (Yes its both)\n",
    "\n",
    "**Non-Python Libraries** \n",
    "1. Apache Spark\n",
    "2. Scala Libraries\n",
    "    1. Vegas\n",
    "    2. BigDL\n",
    "3. R Libraries\n",
    "    1. ggplot2\n",
    "    2. dplyr\n",
    "    3. stringr\n",
    "    4. caret"
   ]
  },
  {
   "cell_type": "markdown",
   "metadata": {},
   "source": [
    "|Data Science Tools|\n",
    "|------------------|\n",
    "|Jupyter|\n",
    "|Jupyter Notebook|\n",
    "|JupyterLab|\n",
    "|Apache Zeppelin|\n",
    "|R Studio|\n",
    "|Spyder|"
   ]
  },
  {
   "cell_type": "markdown",
   "metadata": {},
   "source": [
    "### Examples of Evaluating Arithmetic Expressions in Python:"
   ]
  },
  {
   "cell_type": "code",
   "execution_count": 4,
   "metadata": {
    "scrolled": true
   },
   "outputs": [
    {
     "data": {
      "text/plain": [
       "17"
      ]
     },
     "execution_count": 4,
     "metadata": {},
     "output_type": "execute_result"
    }
   ],
   "source": [
    "# Example of a simple arithmetic expression to multiply and then add integers.\n",
    "(3*4)+5"
   ]
  },
  {
   "cell_type": "code",
   "execution_count": 5,
   "metadata": {},
   "outputs": [
    {
     "name": "stdout",
     "output_type": "stream",
     "text": [
      "3.3333333333333335\n"
     ]
    }
   ],
   "source": [
    "# This operation will convert 200 minutes to hours\n",
    "minutes = 200\n",
    "hours = minutes / 60\n",
    "print(hours)"
   ]
  },
  {
   "cell_type": "markdown",
   "metadata": {},
   "source": [
    "## Author\n",
    "Robyn Torof"
   ]
  },
  {
   "cell_type": "code",
   "execution_count": null,
   "metadata": {},
   "outputs": [],
   "source": []
  }
 ],
 "metadata": {
  "kernelspec": {
   "display_name": "Python 3 (ipykernel)",
   "language": "python",
   "name": "python3"
  },
  "language_info": {
   "codemirror_mode": {
    "name": "ipython",
    "version": 3
   },
   "file_extension": ".py",
   "mimetype": "text/x-python",
   "name": "python",
   "nbconvert_exporter": "python",
   "pygments_lexer": "ipython3",
   "version": "3.11.5"
  }
 },
 "nbformat": 4,
 "nbformat_minor": 4
}
